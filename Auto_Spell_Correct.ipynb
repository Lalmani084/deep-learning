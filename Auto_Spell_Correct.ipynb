{
  "nbformat": 4,
  "nbformat_minor": 0,
  "metadata": {
    "colab": {
      "provenance": [],
      "authorship_tag": "ABX9TyMeEwJiQ9WI/fWwwkm2oVVn",
      "include_colab_link": true
    },
    "kernelspec": {
      "name": "python3",
      "display_name": "Python 3"
    },
    "language_info": {
      "name": "python"
    }
  },
  "cells": [
    {
      "cell_type": "markdown",
      "metadata": {
        "id": "view-in-github",
        "colab_type": "text"
      },
      "source": [
        "<a href=\"https://colab.research.google.com/github/Lalmani084/deep-learning/blob/main/Auto_Spell_Correct.ipynb\" target=\"_parent\"><img src=\"https://colab.research.google.com/assets/colab-badge.svg\" alt=\"Open In Colab\"/></a>"
      ]
    },
    {
      "cell_type": "code",
      "execution_count": 18,
      "metadata": {
        "colab": {
          "base_uri": "https://localhost:8080/"
        },
        "id": "IP2rDQBfIzu6",
        "outputId": "6b3ac445-0d79-407d-aa4d-e358e7187d3a"
      },
      "outputs": [
        {
          "output_type": "stream",
          "name": "stdout",
          "text": [
            "Requirement already satisfied: spello in /usr/local/lib/python3.10/dist-packages (1.3.0)\n",
            "Requirement already satisfied: nltk<4,>=3.4.5 in /usr/local/lib/python3.10/dist-packages (from spello) (3.8.1)\n",
            "Requirement already satisfied: click in /usr/local/lib/python3.10/dist-packages (from nltk<4,>=3.4.5->spello) (8.1.7)\n",
            "Requirement already satisfied: joblib in /usr/local/lib/python3.10/dist-packages (from nltk<4,>=3.4.5->spello) (1.4.2)\n",
            "Requirement already satisfied: regex>=2021.8.3 in /usr/local/lib/python3.10/dist-packages (from nltk<4,>=3.4.5->spello) (2024.9.11)\n",
            "Requirement already satisfied: tqdm in /usr/local/lib/python3.10/dist-packages (from nltk<4,>=3.4.5->spello) (4.66.5)\n"
          ]
        }
      ],
      "source": [
        "!pip install spello"
      ]
    },
    {
      "cell_type": "code",
      "source": [
        "from spello.model import SpellCorrectionModel"
      ],
      "metadata": {
        "id": "ut5gmQuRKe2t"
      },
      "execution_count": 19,
      "outputs": []
    },
    {
      "cell_type": "code",
      "source": [
        "model= SpellCorrectionModel(language=\"en\")"
      ],
      "metadata": {
        "id": "nTzBtEDrKrIC"
      },
      "execution_count": 20,
      "outputs": []
    },
    {
      "cell_type": "code",
      "source": [
        "with open(\"/content/words.txt\") as file:\n",
        "  data= file.readlines()\n",
        "\n",
        "data=[i.strip() for i in data]"
      ],
      "metadata": {
        "id": "IGaxpjTgK5ku"
      },
      "execution_count": 21,
      "outputs": []
    },
    {
      "cell_type": "code",
      "source": [
        "model.train(data)"
      ],
      "metadata": {
        "colab": {
          "base_uri": "https://localhost:8080/"
        },
        "id": "79JW-BYPLVPH",
        "outputId": "bbc4da51-8511-4850-c124-8324bed7c2d9"
      },
      "execution_count": 22,
      "outputs": [
        {
          "output_type": "stream",
          "name": "stdout",
          "text": [
            "Spello training started..\n"
          ]
        },
        {
          "output_type": "stream",
          "name": "stderr",
          "text": [
            "DEBUG:spello.settings:Spello training started..\n"
          ]
        },
        {
          "output_type": "stream",
          "name": "stdout",
          "text": [
            "Context model training started ...\n"
          ]
        },
        {
          "output_type": "stream",
          "name": "stderr",
          "text": [
            "DEBUG:spello.settings:Context model training started ...\n"
          ]
        },
        {
          "output_type": "stream",
          "name": "stdout",
          "text": [
            "Symspell training started ...\n"
          ]
        },
        {
          "output_type": "stream",
          "name": "stderr",
          "text": [
            "DEBUG:spello.settings:Symspell training started ...\n"
          ]
        },
        {
          "output_type": "stream",
          "name": "stdout",
          "text": [
            "Phoneme training started ...\n"
          ]
        },
        {
          "output_type": "stream",
          "name": "stderr",
          "text": [
            "DEBUG:spello.settings:Phoneme training started ...\n"
          ]
        },
        {
          "output_type": "stream",
          "name": "stdout",
          "text": [
            "Spello training completed successfully ...\n"
          ]
        },
        {
          "output_type": "stream",
          "name": "stderr",
          "text": [
            "DEBUG:spello.settings:Spello training completed successfully ...\n"
          ]
        }
      ]
    },
    {
      "cell_type": "code",
      "source": [
        "model.save(\"\")"
      ],
      "metadata": {
        "colab": {
          "base_uri": "https://localhost:8080/",
          "height": 35
        },
        "id": "22dfHfwZLZL-",
        "outputId": "cf881908-bbc7-49e2-b584-15c7dbe4639b"
      },
      "execution_count": 23,
      "outputs": [
        {
          "output_type": "execute_result",
          "data": {
            "text/plain": [
              "'./model.pkl'"
            ],
            "application/vnd.google.colaboratory.intrinsic+json": {
              "type": "string"
            }
          },
          "metadata": {},
          "execution_count": 23
        }
      ]
    },
    {
      "cell_type": "code",
      "source": [
        "model.load(\"model.pkl\")\n"
      ],
      "metadata": {
        "colab": {
          "base_uri": "https://localhost:8080/"
        },
        "id": "uN6XHiU5Ldvm",
        "outputId": "e5eb9600-df3b-48b2-959b-9509c1aaf717"
      },
      "execution_count": 24,
      "outputs": [
        {
          "output_type": "execute_result",
          "data": {
            "text/plain": [
              "<spello.model.SpellCorrectionModel at 0x7deb1b4c0730>"
            ]
          },
          "metadata": {},
          "execution_count": 24
        }
      ]
    },
    {
      "cell_type": "code",
      "source": [
        "lines= input(\"Enter the sentence / word : \")"
      ],
      "metadata": {
        "colab": {
          "base_uri": "https://localhost:8080/"
        },
        "id": "yGeh3zQ3Lwv7",
        "outputId": "c8e625b0-d543-4f26-cb36-5539844f0a03"
      },
      "execution_count": 25,
      "outputs": [
        {
          "name": "stdout",
          "output_type": "stream",
          "text": [
            "Enter the sentence / word : scool\n"
          ]
        }
      ]
    },
    {
      "cell_type": "code",
      "source": [
        "words = lines.split()"
      ],
      "metadata": {
        "id": "mUid3HPBL8fa"
      },
      "execution_count": 26,
      "outputs": []
    },
    {
      "cell_type": "code",
      "source": [
        "correct_words= []\n",
        "for word in words:\n",
        "  corrected = model.spell_correct(word)\n",
        "  correct_words.append(corrected['spell_corrected_text'])\n",
        "\n",
        "  corrected_sentence = \" \".join(correct_words)"
      ],
      "metadata": {
        "colab": {
          "base_uri": "https://localhost:8080/"
        },
        "id": "-mWtMnUAL_7t",
        "outputId": "11983151-3063-4453-ce39-d2a078c5008c"
      },
      "execution_count": 27,
      "outputs": [
        {
          "output_type": "stream",
          "name": "stderr",
          "text": [
            "DEBUG:spello.settings:Symspell suggestions: [('school', 1), ('cool', 1), ('scoop', 1), ('school', 1), ('scoop', 1), ('school', 1), ('cool', 1)]\n",
            "DEBUG:spello.settings:Phoneme suggestions: [('school', 1), ('school', 1), ('school', 1), ('scale', 3), ('social', 3), ('social', 3)]\n",
            "DEBUG:spello.settings:Suggestions dict from phoneme and symspell are: {'scool': ['school', 'cool', 'scoop', 'scale', 'social']}\n",
            "DEBUG:spello.settings:text after context model: school\n",
            "DEBUG:spello.settings:Spell-correction Results {'original_text': 'scool', 'spell_corrected_text': 'school', 'correction_dict': {'scool': 'school'}}\n"
          ]
        }
      ]
    },
    {
      "cell_type": "code",
      "source": [
        "print(\"Corrected Sentence: \" , corrected_sentence)"
      ],
      "metadata": {
        "colab": {
          "base_uri": "https://localhost:8080/"
        },
        "id": "bt3pcolcNNht",
        "outputId": "c735176e-1a86-4b83-b21c-b792afb9ae0c"
      },
      "execution_count": 28,
      "outputs": [
        {
          "output_type": "stream",
          "name": "stdout",
          "text": [
            "Corrected Sentence:  school\n"
          ]
        }
      ]
    }
  ]
}